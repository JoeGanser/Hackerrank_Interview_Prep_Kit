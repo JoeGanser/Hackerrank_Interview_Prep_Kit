{
 "cells": [
  {
   "cell_type": "markdown",
   "metadata": {},
   "source": [
    "# BUBBLE SORTING"
   ]
  },
  {
   "cell_type": "markdown",
   "metadata": {},
   "source": [
    "The objective is to determine to order the list step by step and count how many times it takes to order the list.\n",
    "\n",
    "    For example:\n",
    "    start with the list [3,2,1], the bubble sorting goes:\n",
    "    [2,3,1]\n",
    "    [2,1,3]\n",
    "    [1,2,3]\n",
    "    3 swaps"
   ]
  },
  {
   "cell_type": "markdown",
   "metadata": {},
   "source": [
    "# My solution: which worked!"
   ]
  },
  {
   "cell_type": "code",
   "execution_count": 83,
   "metadata": {},
   "outputs": [
    {
     "name": "stdout",
     "output_type": "stream",
     "text": [
      "3\n",
      "3 2 1\n",
      "Array is sorted in 3 swaps.\n",
      "First Element: 1\n",
      "Last Element: 3\n"
     ]
    }
   ],
   "source": [
    "n = int(input())\n",
    "L = list(map(int,input().split()))\n",
    "\n",
    "def check_order(x):\n",
    "    if x[0] == min(x) and x[-1] == max(x):\n",
    "        return True\n",
    "    else:\n",
    "        return False\n",
    "\n",
    "def re_order(x):\n",
    "    count = 0\n",
    "    for i in range(len(x)):\n",
    "        if (i>0) and (x[i]<x[i-1]):\n",
    "            k= x[i]\n",
    "            kk= x[i-1]\n",
    "            x[i] = kk\n",
    "            x[i-1] = k\n",
    "            count = count+1\n",
    "    return x, count\n",
    "\n",
    "\n",
    "def bubble_sort(x):\n",
    "    l = []\n",
    "    while check_order(x) == False:\n",
    "        x,count1 = re_order(x)\n",
    "        l.append(count1)\n",
    "    count = sum(l)\n",
    "    string1 = 'Array is sorted in '+str(count)+' swaps.' \n",
    "    string2 = 'First Element: '+str(x[0])\n",
    "    string3 = 'Last Element: '+str(x[-1])\n",
    "    print(string1)\n",
    "    print(string2)\n",
    "    print(string3)\n",
    "    \n",
    "bubble_sort(L)"
   ]
  },
  {
   "cell_type": "code",
   "execution_count": null,
   "metadata": {},
   "outputs": [],
   "source": []
  }
 ],
 "metadata": {
  "kernelspec": {
   "display_name": "Python 3",
   "language": "python",
   "name": "python3"
  },
  "language_info": {
   "codemirror_mode": {
    "name": "ipython",
    "version": 3
   },
   "file_extension": ".py",
   "mimetype": "text/x-python",
   "name": "python",
   "nbconvert_exporter": "python",
   "pygments_lexer": "ipython3",
   "version": "3.6.4"
  }
 },
 "nbformat": 4,
 "nbformat_minor": 2
}
