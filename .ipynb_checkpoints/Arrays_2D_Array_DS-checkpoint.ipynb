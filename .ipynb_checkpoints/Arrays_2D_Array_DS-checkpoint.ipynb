{
 "cells": [
  {
   "cell_type": "code",
   "execution_count": null,
   "metadata": {},
   "outputs": [],
   "source": [
    "import sys\n",
    "\n",
    "arr = []\n",
    "for arr_i in xrange(6):\n",
    "    arr_temp = map(int,raw_input().strip().split(' '))\n",
    "    arr.append(arr_temp)\n",
    "\n",
    "def hourglass_sum(x):\n",
    "    d = []\n",
    "    for i in range(len(x)-2):\n",
    "        for j in range(len(x)-2):\n",
    "            try:\n",
    "                u = [k for k in x[i][j:j+3]]\n",
    "                q = [k for k in x[i+2][j:j+3]]\n",
    "                p = x[i+1][j+1]\n",
    "                if (len(q)==3 and len(u)==3):\n",
    "                    d.append(sum(u+q+[p]))\n",
    "            except:\n",
    "                break\n",
    "    return max(d)\n",
    "\n",
    "print(hourglass_sum(arr))\n"
   ]
  }
 ],
 "metadata": {
  "kernelspec": {
   "display_name": "Python 3",
   "language": "python",
   "name": "python3"
  },
  "language_info": {
   "codemirror_mode": {
    "name": "ipython",
    "version": 3
   },
   "file_extension": ".py",
   "mimetype": "text/x-python",
   "name": "python",
   "nbconvert_exporter": "python",
   "pygments_lexer": "ipython3",
   "version": "3.6.4"
  }
 },
 "nbformat": 4,
 "nbformat_minor": 2
}
