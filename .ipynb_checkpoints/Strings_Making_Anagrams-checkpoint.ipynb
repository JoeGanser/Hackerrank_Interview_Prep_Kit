{
 "cells": [
  {
   "cell_type": "markdown",
   "metadata": {},
   "source": [
    "# Strings: Making Anagrams\n",
    "\n",
    "https://www.hackerrank.com/challenges/ctci-making-anagrams/problem?h_l=interview&playlist_slugs%5B%5D=interview-preparation-kit&playlist_slugs%5B%5D=strings"
   ]
  },
  {
   "cell_type": "markdown",
   "metadata": {},
   "source": [
    "#The idea is to make a frequency table"
   ]
  },
  {
   "cell_type": "markdown",
   "metadata": {},
   "source": [
    "# This one gets the right answer but it times out - takes too long. Scroll down to see the best answer which is O(n^1)"
   ]
  },
  {
   "cell_type": "code",
   "execution_count": 14,
   "metadata": {},
   "outputs": [
    {
     "name": "stdout",
     "output_type": "stream",
     "text": [
      "40\n"
     ]
    }
   ],
   "source": [
    "s1 = 'bugexikjevtubidpulaelsbcqlupwetzyzdvjphn'\n",
    "s2 = 'lajoipfecfinxjspxmevqxuqyalhrsxcvgsdxxkacspbchrbvvwnvsdtsrdk'\n",
    "#expected count is 40\n",
    "def frequency_dict(s):\n",
    "    d = {}\n",
    "    for i in set(s):\n",
    "        d[i] = list(s).count(i)\n",
    "    return d\n",
    "\n",
    "def get_intersection(s1,s2):\n",
    "    S1 = frequency_dict(s1)\n",
    "    S2 = frequency_dict(s2)\n",
    "    intersection = set(S1.keys()).intersection(set(S2.keys()))\n",
    "    return intersection\n",
    "\n",
    "intersection=get_intersection(s1,s2)\n",
    "count = 0\n",
    "max_length = max([len(s1),len(s2)])\n",
    "#for index in range(max_length):\n",
    "while list(frequency_dict(s1).keys())!=list(frequency_dict(s2).keys()):\n",
    "    for Index1,j in enumerate(list(s1)):\n",
    "        if j not in intersection:\n",
    "            k = list(s1)\n",
    "            del k[Index1]\n",
    "            s1 = ''.join(k)\n",
    "            count=count+1\n",
    "            break\n",
    "    for Index2,J in enumerate(list(s2)):\n",
    "        if J not in intersection:\n",
    "            K = list(s2)\n",
    "            del K[Index2]\n",
    "            s2 = ''.join(K)\n",
    "            count=count+1\n",
    "            break\n",
    "\n",
    "\n",
    "\n",
    "for key in frequency_dict(s1).keys():\n",
    "    if frequency_dict(s1)[key] >frequency_dict(s2)[key]:\n",
    "        count = count+(frequency_dict(s1)[key]-frequency_dict(s2)[key])\n",
    "    elif frequency_dict(s1)[key] < frequency_dict(s2)[key]:\n",
    "        count = count+(frequency_dict(s2)[key]-frequency_dict(s1)[key])\n",
    "    else:\n",
    "        pass\n",
    "print(count)\n",
    "\n"
   ]
  },
  {
   "cell_type": "markdown",
   "metadata": {},
   "source": [
    "# This one works, and its O(n^1)"
   ]
  },
  {
   "cell_type": "code",
   "execution_count": 12,
   "metadata": {},
   "outputs": [
    {
     "name": "stdout",
     "output_type": "stream",
     "text": [
      "40\n"
     ]
    }
   ],
   "source": [
    "s1 = 'bugexikjevtubidpulaelsbcqlupwetzyzdvjphn'\n",
    "s2 = 'lajoipfecfinxjspxmevqxuqyalhrsxcvgsdxxkacspbchrbvvwnvsdtsrdk'\n",
    "#answer should be 40\n",
    "\n",
    "\n",
    "def frequency_dict(s):\n",
    "    d = {}\n",
    "    for i in set(s):\n",
    "        d[i] = list(s).count(i)\n",
    "    return d\n",
    "\n",
    "def get_intersection(s1,s2):\n",
    "    S1 = frequency_dict(s1)\n",
    "    S2 = frequency_dict(s2)\n",
    "    intersection = set(S1.keys()).intersection(set(S2.keys()))\n",
    "    return intersection\n",
    "\n",
    "intersection=get_intersection(s1,s2)\n",
    "count = 0\n",
    "\n",
    "for key1 in frequency_dict(s1).keys():\n",
    "    if key1 not in intersection:\n",
    "        count = count+frequency_dict(s1)[key1]\n",
    "        \n",
    "for key2 in frequency_dict(s2).keys():\n",
    "    if key2 not in intersection:\n",
    "        count = count+frequency_dict(s2)[key2]\n",
    "\n",
    "\n",
    "        \n",
    "for key in intersection:\n",
    "    if frequency_dict(s1)[key] >frequency_dict(s2)[key]:\n",
    "        count = count+(frequency_dict(s1)[key]-frequency_dict(s2)[key])\n",
    "    elif frequency_dict(s1)[key] < frequency_dict(s2)[key]:\n",
    "        count = count+(frequency_dict(s2)[key]-frequency_dict(s1)[key])\n",
    "    else:\n",
    "        pass\n",
    "print(count)"
   ]
  },
  {
   "cell_type": "code",
   "execution_count": null,
   "metadata": {},
   "outputs": [],
   "source": []
  }
 ],
 "metadata": {
  "kernelspec": {
   "display_name": "Python 3",
   "language": "python",
   "name": "python3"
  },
  "language_info": {
   "codemirror_mode": {
    "name": "ipython",
    "version": 3
   },
   "file_extension": ".py",
   "mimetype": "text/x-python",
   "name": "python",
   "nbconvert_exporter": "python",
   "pygments_lexer": "ipython3",
   "version": "3.6.4"
  }
 },
 "nbformat": 4,
 "nbformat_minor": 2
}
