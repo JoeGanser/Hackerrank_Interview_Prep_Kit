{
 "cells": [
  {
   "cell_type": "markdown",
   "metadata": {},
   "source": [
    "# Can one string be made from another string?"
   ]
  },
  {
   "cell_type": "markdown",
   "metadata": {},
   "source": [
    "This answer gives all the right solutions but its too slow. At the bottom is the best answer."
   ]
  },
  {
   "cell_type": "code",
   "execution_count": 45,
   "metadata": {},
   "outputs": [
    {
     "name": "stdout",
     "output_type": "stream",
     "text": [
      "1\n",
      "alpha\n",
      "beta\n",
      "Yes\n"
     ]
    }
   ],
   "source": [
    "p = int(input())\n",
    "test_cases = []\n",
    "for i in range(p):\n",
    "    test_cases.append((str(input()),str(input())))\n",
    "\n",
    "def loop_through(s):\n",
    "    S = list(s)\n",
    "    l=[]\n",
    "    if len(s)>1:\n",
    "        for i in range(len(s)+1):\n",
    "            l.append(''.join(S[0:i+1]))\n",
    "    return l\n",
    "\n",
    "def add_permutation(s):\n",
    "    l = []\n",
    "    S = list(s)\n",
    "    for i in range(len(S)+1):\n",
    "        l.extend(loop_through(''.join(S[i:])))\n",
    "    try:\n",
    "        return list(set(l)).remove('')\n",
    "    except:\n",
    "        return list(set(l))\n",
    "\n",
    "def substrings(s1,s2):\n",
    "    S=add_permutation(s1)\n",
    "    l=[]\n",
    "    for i in S:\n",
    "        l.append(i in s2)\n",
    "    if True in l:\n",
    "        return 'YES'\n",
    "    else:\n",
    "        return 'NO'\n",
    "    \n",
    "for test in test_cases:\n",
    "    print(substrings(test[0],test[1]))"
   ]
  },
  {
   "cell_type": "markdown",
   "metadata": {},
   "source": [
    "# This answer does the same as above, but its must faster and doesn't time out!"
   ]
  },
  {
   "cell_type": "code",
   "execution_count": 51,
   "metadata": {},
   "outputs": [
    {
     "name": "stdout",
     "output_type": "stream",
     "text": [
      "1\n",
      "hello\n",
      "world\n",
      "YES\n"
     ]
    }
   ],
   "source": [
    "p = int(input())\n",
    "test_cases = []\n",
    "for i in range(p):\n",
    "    test_cases.append((str(input()),str(input())))\n",
    "\n",
    "def twoStrings(s1, s2):\n",
    "    return 'YES' if any(i in s2 for i in s1 ) else 'NO'\n",
    "\n",
    "for test in test_cases:\n",
    "    print(twoStrings(test[0],test[1]))"
   ]
  },
  {
   "cell_type": "code",
   "execution_count": null,
   "metadata": {},
   "outputs": [],
   "source": []
  }
 ],
 "metadata": {
  "kernelspec": {
   "display_name": "Python 3",
   "language": "python",
   "name": "python3"
  },
  "language_info": {
   "codemirror_mode": {
    "name": "ipython",
    "version": 3
   },
   "file_extension": ".py",
   "mimetype": "text/x-python",
   "name": "python",
   "nbconvert_exporter": "python",
   "pygments_lexer": "ipython3",
   "version": "3.6.4"
  }
 },
 "nbformat": 4,
 "nbformat_minor": 2
}
