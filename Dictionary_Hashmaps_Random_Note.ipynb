{
 "cells": [
  {
   "cell_type": "markdown",
   "metadata": {},
   "source": [
    "# The real question is; can whatever the note is made of be made from whats in the magazine?"
   ]
  },
  {
   "cell_type": "markdown",
   "metadata": {},
   "source": [
    "This solution works, but it times out. So there is obviously a better solution."
   ]
  },
  {
   "cell_type": "code",
   "execution_count": 5,
   "metadata": {},
   "outputs": [
    {
     "name": "stdout",
     "output_type": "stream",
     "text": [
      "2 3\n",
      "alpha\n",
      "beta\n",
      "gamma\n",
      "delta\n",
      "sigma\n"
     ]
    }
   ],
   "source": [
    "m,n = map(int,input().split())\n",
    "magazine = list(map(str,input().split()))\n",
    "note = list(map(str,input().split()))\n",
    "\n",
    "def validate(magazine,note):\n",
    "    l = []\n",
    "    for i in note:\n",
    "        if note.count(i) <= magazine.count(i):\n",
    "            l.append(True)\n",
    "        else:\n",
    "            l.append(False)\n",
    "    if False in l:\n",
    "        return 'No'\n",
    "    else:\n",
    "        return 'Yes'\n",
    "    \n",
    "print(validate(magazine,note))"
   ]
  },
  {
   "cell_type": "markdown",
   "metadata": {},
   "source": [
    "You would go through each element in the note, and check if the count of that element in magazine is equal to the count of that element in note."
   ]
  },
  {
   "cell_type": "code",
   "execution_count": 11,
   "metadata": {},
   "outputs": [
    {
     "name": "stdout",
     "output_type": "stream",
     "text": [
      "Yes\n"
     ]
    }
   ],
   "source": [
    "magazine = 'give me one grand today night'.split(' ')\n",
    "note = 'give one grand today'.split(' ')\n",
    "\n",
    "from collections import Counter\n",
    "\n",
    "def ransom_note(magazine, ransom):\n",
    "    return (Counter(ransom) - Counter(magazine)) == {}\n",
    "\n",
    "def function(magazine,ransom):\n",
    "    if ransom_note(magazine,ransom) == True:\n",
    "        return 'Yes'\n",
    "    else:\n",
    "        return 'No'\n",
    "print(function(magazine,note))"
   ]
  },
  {
   "cell_type": "code",
   "execution_count": null,
   "metadata": {},
   "outputs": [],
   "source": []
  }
 ],
 "metadata": {
  "kernelspec": {
   "display_name": "Python 3",
   "language": "python",
   "name": "python3"
  },
  "language_info": {
   "codemirror_mode": {
    "name": "ipython",
    "version": 3
   },
   "file_extension": ".py",
   "mimetype": "text/x-python",
   "name": "python",
   "nbconvert_exporter": "python",
   "pygments_lexer": "ipython3",
   "version": "3.6.4"
  }
 },
 "nbformat": 4,
 "nbformat_minor": 2
}
